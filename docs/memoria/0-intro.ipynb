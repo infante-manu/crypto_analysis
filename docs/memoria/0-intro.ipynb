{
 "cells": [
  {
   "cell_type": "markdown",
   "metadata": {},
   "source": [
    "<style>\n",
    "@import url('https://fonts.googleapis.com/css2?family=Montserrat:wght@300&display=swap');\n",
    "\n",
    "body, div, h1, h2, h3, h4, h5, h6, p, span, a, li, td, th {\n",
    "    font-family: 'Montserrat', sans-serif;\n",
    "    font-weight: 300;\n",
    "}\n",
    "</style>\n",
    "\n",
    "# Memoria del Proyecto\n",
    "## Índice\n",
    "\n",
    "1. [Descripción del Proyecto](#1-descripción-del-proyecto)\n",
    "2. [Estructura del Código y Archivos](#2-estructura-del-código-y-archivos)\n",
    "3. [Descripción de los Módulos](#3-descripción-de-los-módulos)\n",
    "    1. [KrakenAPIHandler](#3.1-krakenapihandler)\n",
    "    2. [CryptoDataProcessor](#3.2-cryptodataprocessor)\n",
    "    3. [SignalGenerator](#3.3-signalgenerator)\n",
    "    4. [Backtester](#3.4-backtester)\n",
    "    5. [CryptoPlotter](#3.5-cryptoplotter)\n",
    "    6. [TradingEngine](#3.6-tradingengine)\n",
    "4. [Ejecución del Código](#4-ejecución-del-código)\n",
    "5. [Pantallazos y Resultados](#5-pantallazos-y-resultados)\n",
    "6. [Manejo de Errores y Excepciones](#6-manejo-de-errores-y-excepciones)\n",
    "7. [Testeo y Cobertura](#7-testeo-y-cobertura)\n",
    "8. [Mecanismos para la Reproducción del Entorno](#8-mecanismos-para-la-reproducción-del-entorno)\n",
    "9. [Distribución del Proyecto](#9-distribución-del-proyecto)\n",
    "10. [Conclusión](#10-conclusión)\n",
    "11. [Glosario](#11-glosario)"
   ]
  }
 ],
 "metadata": {
  "kernelspec": {
   "display_name": "crypto_analysis",
   "language": "python",
   "name": "python3"
  },
  "language_info": {
   "codemirror_mode": {
    "name": "ipython",
    "version": 3
   },
   "file_extension": ".py",
   "mimetype": "text/x-python",
   "name": "python",
   "nbconvert_exporter": "python",
   "pygments_lexer": "ipython3",
   "version": "3.13.0"
  }
 },
 "nbformat": 4,
 "nbformat_minor": 0
}
