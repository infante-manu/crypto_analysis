{
 "cells": [
  {
   "cell_type": "markdown",
   "id": "b5c8648e",
   "metadata": {},
   "source": [
    "\n",
    "<style>\n",
    "    @import url('https://fonts.googleapis.com/css2?family=Montserrat:wght@300&display=swap');\n",
    "\n",
    "    body, div, h1, h2, h3, h4, h5, h6, p, span, a, li, td, th {\n",
    "        font-family: 'Montserrat', sans-serif;\n",
    "        font-weight: 300;\n",
    "    }\n",
    "</style>    \n",
    "<div id='8-mecanismos-para-la-reproducción-del-entorno'></div>"
   ]
  },
  {
   "cell_type": "markdown",
   "id": "369ab733",
   "metadata": {},
   "source": [
    "## 8. Mecanismos para la Reproducción del Entorno\n",
    "El archivo `requirements.txt` incluye todas las dependencias necesarias para reproducir el entorno."
   ]
  }
 ],
 "metadata": {
  "language_info": {
   "name": "python"
  }
 },
 "nbformat": 4,
 "nbformat_minor": 5
}
