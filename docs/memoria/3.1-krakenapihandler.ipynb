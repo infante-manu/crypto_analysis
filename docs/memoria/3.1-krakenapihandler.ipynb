{
 "cells": [
  {
   "cell_type": "markdown",
   "id": "8dced1aa",
   "metadata": {},
   "source": [
    "\n",
    "<style>\n",
    "    @import url('https://fonts.googleapis.com/css2?family=Montserrat:wght@300&display=swap');\n",
    "\n",
    "    body, div, h1, h2, h3, h4, h5, h6, p, span, a, li, td, th {\n",
    "        font-family: 'Montserrat', sans-serif;\n",
    "        font-weight: 300;\n",
    "    }\n",
    "</style>    \n",
    "<div id='3.1-krakenapihandler'></div>"
   ]
  },
  {
   "cell_type": "markdown",
   "id": "9db3c893",
   "metadata": {},
   "source": [
    "### 3.1. KrakenAPIHandler\n",
    "Este módulo maneja la interacción con la API de Kraken para obtener datos de criptomonedas.\n",
    "\n",
    "```python\n",
    "class KrakenAPIHandler:\n",
    "    OHLC_URL = \"https://api.kraken.com/0/public/OHLC\"\n",
    "    ASSET_PAIRS_URL = 'https://api.kraken.com/0/public/AssetPairs'\n",
    "\n",
    "    def fetch_ohlc_data(self, pair: str, interval: int, since: int = None) -> pd.DataFrame:\n",
    "        # Código para obtener datos OHLC\n",
    "        ...\n",
    "\n",
    "    def fetch_asset_pairs(self) -> list:\n",
    "        # Código para obtener pares de activos\n",
    "        ...\n",
    "```"
   ]
  }
 ],
 "metadata": {
  "language_info": {
   "name": "python"
  }
 },
 "nbformat": 4,
 "nbformat_minor": 5
}
