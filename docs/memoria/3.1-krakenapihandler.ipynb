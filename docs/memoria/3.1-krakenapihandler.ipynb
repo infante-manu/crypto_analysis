{
 "cells": [
  {
   "cell_type": "markdown",
   "id": "8dced1aa",
   "metadata": {},
   "source": [
    "\n",
    "<style>\n",
    "    @import url('https://fonts.googleapis.com/css2?family=Montserrat:wght@300&display=swap');\n",
    "\n",
    "    body, div, h1, h2, h3, h4, h5, h6, p, span, a, li, td, th {\n",
    "        font-family: 'Montserrat', sans-serif;\n",
    "        font-weight: 300;\n",
    "    }\n",
    "</style>    \n",
    "<div id='3.1-krakenapihandler'></div>"
   ]
  },
  {
   "cell_type": "markdown",
   "id": "9db3c893",
   "metadata": {},
   "source": [
    "<style>\n",
    "    @import url('https://fonts.googleapis.com/css2?family=Montserrat:wght@300&display=swap');\n",
    "\n",
    "    body, div, h1, h2, h3, h4, h5, h6, p, span, a, li, td, th {\n",
    "        font-family: 'Montserrat', sans-serif;\n",
    "        font-weight: 300;\n",
    "    }\n",
    "</style>    \n",
    "<div id='3.1-krakenapihandler'></div>\n",
    "\n",
    "### 3.1. KrakenAPIHandler\n",
    "\n",
    "#### Descripción\n",
    "La clase `KrakenAPIHandler` es responsable de manejar la interacción con los datos de mercado a traves de la [API de Kraken](https://docs.kraken.com/api/docs/category/rest-api/market-data) para obtener datos de criptomonedas. Esta clase proporciona métodos para obtener datos OHLC (Open, High, Low, Close) y pares de activos disponibles en la plataforma Kraken.\n",
    "\n",
    "#### Funcionalidad\n",
    "\n",
    "1. **Atributos**\n",
    "   - `OHLC_URL`: URL de la API de Kraken para obtener datos OHLC.\n",
    "   - `ASSET_PAIRS_URL`: URL de la API de Kraken para obtener pares de activos.\n",
    "\n",
    "2. **Métodos**\n",
    "\n",
    "   - `fetch_ohlc_data(pair: str, interval: int, since: int = None) -> pd.DataFrame`\n",
    "     - **Descripción**: Este método obtiene datos OHLC para un par de activos específico y un intervalo de tiempo determinado.\n",
    "     - **Parámetros**:\n",
    "       - `pair` (str): El par de activos para el cual se desean obtener los datos (por ejemplo, 'BTCUSD').\n",
    "       - `interval` (int): El intervalo de tiempo en minutos para los datos OHLC (por ejemplo, 1, 5, 15, 30, 60, 240, 1440).\n",
    "       - `since` (int, opcional): El timestamp desde el cual se desean obtener los datos. Si no se proporciona, se obtendrán los datos más recientes.\n",
    "     - **Retorno**: Un DataFrame de pandas que contiene los datos OHLC.\n",
    "     - **Funcionamiento**:\n",
    "       1. Construye la URL de la solicitud utilizando los parámetros proporcionados.\n",
    "       2. Realiza una solicitud HTTP GET a la API de Kraken.\n",
    "       3. Procesa la respuesta JSON y convierte los datos en un DataFrame de pandas.\n",
    "       4. Devuelve el DataFrame con los datos OHLC.\n",
    "\n",
    "   - `fetch_asset_pairs() -> list`\n",
    "     - **Descripción**: Este método obtiene la lista de pares de activos disponibles en la plataforma Kraken.\n",
    "     - **Parámetros**: Ninguno.\n",
    "     - **Retorno**: Una lista de pares de activos disponibles.\n",
    "     - **Funcionamiento**:\n",
    "       1. Realiza una solicitud HTTP GET a la API de Kraken utilizando la URL `ASSET_PAIRS_URL`.\n",
    "       2. Procesa la respuesta JSON y extrae la lista de pares de activos.\n",
    "       3. Devuelve la lista de pares de activos.\n",
    "\n",
    "#### Ejemplo de Uso\n",
    "\n",
    "```python\n",
    "from crypto_analysis.kraken_api_handler import KrakenAPIHandler\n",
    "\n",
    "# Crear una instancia de KrakenAPIHandler\n",
    "api_handler = KrakenAPIHandler()\n",
    "\n",
    "# Obtener datos OHLC para el par BTCUSD con un intervalo de 1 minuto\n",
    "ohlc_data = api_handler.fetch_ohlc_data(pair='BTCUSD', interval=1)\n",
    "\n",
    "# Obtener la lista de pares de activos disponibles\n",
    "asset_pairs = api_handler.fetch_asset_pairs()\n",
    "\n",
    "```"
   ]
  },
  {
   "cell_type": "markdown",
   "id": "857ee74a",
   "metadata": {},
   "source": [
    "\n",
    "[Ver código fuente en GitHub](https://github.com/infante-manu/crypto_analysis/blob/main/crypto_analysis/kraken_api_handler.py)"
   ]
  }
 ],
 "metadata": {
  "language_info": {
   "name": "python"
  }
 },
 "nbformat": 4,
 "nbformat_minor": 5
}
