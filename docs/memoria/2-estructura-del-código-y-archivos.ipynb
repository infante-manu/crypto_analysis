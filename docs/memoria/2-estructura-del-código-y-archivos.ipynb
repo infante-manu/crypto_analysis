{
 "cells": [
  {
   "cell_type": "markdown",
   "id": "f6bd5825",
   "metadata": {},
   "source": [
    "\n",
    "<style>\n",
    "    @import url('https://fonts.googleapis.com/css2?family=Montserrat:wght@300&display=swap');\n",
    "\n",
    "    body, div, h1, h2, h3, h4, h5, h6, p, span, a, li, td, th {\n",
    "        font-family: 'Montserrat', sans-serif;\n",
    "        font-weight: 300;\n",
    "    }\n",
    "</style>    \n",
    "<div id='2-estructura-del-código-y-archivos'></div>"
   ]
  },
  {
   "cell_type": "markdown",
   "id": "e099dfe0",
   "metadata": {},
   "source": [
    "<style>\n",
    "@import url('https://fonts.googleapis.com/css2?family=Montserrat:wght@300&display=swap');\n",
    "\n",
    "body, div, h1, h2, h3, h4, h5, h6, p, span, a, li, td, th {\n",
    "    font-family: 'Montserrat', sans-serif;\n",
    "    font-weight: 300;\n",
    "}\n",
    "</style>\n",
    "<h2 id=\"2-estructura-del-código-y-archivos\">Estructura del Codigo y Archivos</h2>\n",
    "La estructura del proyecto es la siguiente:\n",
    "\n",
    "```bash\n",
    "├── crypto_analysis               # Directorio principal del análisis de criptomonedas\n",
    "│   ├── __init__.py               # Archivo de inicialización del paquete\n",
    "│   ├── backtester.py             # Módulo para ejecutar backtests en las señales de trading\n",
    "│   ├── crypto_data_processor.py  # Módulo para procesar y analizar datos de criptomonedas\n",
    "│   ├── crypto_plotter.py         # Módulo para la visualización de datos y señales de trading\n",
    "│   ├── kraken_api_handler.py     # Módulo para manejar la interacción con la API de Kraken\n",
    "│   ├── signal_generator.py       # Módulo para generar señales de compra y venta\n",
    "│   ├── trading_engine.py         # Módulo que integra todos los componentes para ejecutar la estrategia de trading\n",
    "│   └── utils.py                  # Módulo con funciones utilitarias\n",
    "├── data                          # Directorio para almacenar datos de criptomonedas\n",
    "├── docs                          # Directorio para la documentación del proyecto\n",
    "│   ├── build_memoria.py          # Script para construir la memoria del proyecto\n",
    "│   ├── memoria                   # Directorio con los notebooks de la memoria del proyecto\n",
    "│   ├── memoria.html              # Archivo HTML generado de la memoria del proyecto\n",
    "│   ├── memoria.ipynb             # Notebook principal de la memoria del proyecto\n",
    "│   └── other                     # Directorio con otros notebooks\n",
    "├── notebooks                     # Directorio para los notebooks de Jupyter\n",
    "│   └── analysis_notebook.ipynb   # Notebook para el análisis de datos\n",
    "└── tests                         # Directorio para las pruebas unitarias\n",
    "    ├── test_trading_engine.py        # Pruebas unitarias para el módulo trading_engine\n",
    "├── streamlit_app                 # Directorio para la aplicación Streamlit\n",
    "│   └── app.py                    # Archivo principal de la aplicación Streamlit\n",
    "│   └── constants.py              # Constantes para inputs del usuario\n",
    "├── README.md                     # Archivo de descripción general del proyecto\n",
    "├── build.py                      # Script para construir el proyecto\n",
    "├── run.sh                        # Bash script para ejecutar la aplicación Streamlit\n",
    "├── setup.sh                      # Bash script con configuración para setear aplicación en Heroku\n",
    "├── main.py                       # Archivo principal para ejecutar el proyecto\n",
    "├── requirements.txt              # Fichero con dependencias\n",
    "├── Procfile                      # Startup bash script para ejecutar en Heroku\n",
    "```"
   ]
  }
 ],
 "metadata": {
  "kernelspec": {
   "display_name": "crypto_analysis_exporter",
   "language": "python",
   "name": "python3"
  },
  "language_info": {
   "name": "python",
   "version": "3.13.0"
  }
 },
 "nbformat": 4,
 "nbformat_minor": 5
}
