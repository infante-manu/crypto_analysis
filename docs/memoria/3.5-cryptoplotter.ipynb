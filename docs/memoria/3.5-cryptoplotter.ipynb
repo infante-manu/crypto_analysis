{
 "cells": [
  {
   "cell_type": "markdown",
   "id": "17e5ea96",
   "metadata": {},
   "source": [
    "\n",
    "<style>\n",
    "    @import url('https://fonts.googleapis.com/css2?family=Montserrat:wght@300&display=swap');\n",
    "\n",
    "    body, div, h1, h2, h3, h4, h5, h6, p, span, a, li, td, th {\n",
    "        font-family: 'Montserrat', sans-serif;\n",
    "        font-weight: 300;\n",
    "    }\n",
    "</style>    \n",
    "<div id='3.5-cryptoplotter'></div>"
   ]
  },
  {
   "cell_type": "markdown",
   "id": "747ee0bd",
   "metadata": {},
   "source": [
    "### 3.5. CryptoPlotter\n",
    "Este módulo maneja la visualización de datos de criptomonedas y señales de trading.\n",
    "\n",
    "```python\n",
    "class CryptoPlotter:\n",
    "    def __init__(self, data: pd.DataFrame) -> None:\n",
    "        self.data = data\n",
    "\n",
    "    def get_data_plot(self) -> None:\n",
    "        # Código para graficar datos\n",
    "        ...\n",
    "\n",
    "    def get_portfolio_plot(self, portfolio_value: pd.Series, initial_capital: float) -> None:\n",
    "        # Código para graficar el valor del portafolio\n",
    "        ...\n",
    "```\n"
   ]
  }
 ],
 "metadata": {
  "language_info": {
   "name": "python"
  }
 },
 "nbformat": 4,
 "nbformat_minor": 5
}
