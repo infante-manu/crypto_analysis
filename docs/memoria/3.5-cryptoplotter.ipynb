{
 "cells": [
  {
   "cell_type": "markdown",
   "id": "17e5ea96",
   "metadata": {},
   "source": [
    "<style>\n",
    "    @import url('https://fonts.googleapis.com/css2?family=Montserrat:wght@300&display=swap');\n",
    "\n",
    "    body, div, h1, h2, h3, h4, h5, h6, p, span, a, li, td, th {\n",
    "        font-family: 'Montserrat', sans-serif;\n",
    "        font-weight: 300;\n",
    "    }\n",
    "</style>    \n",
    "<div id='3.5-cryptoplotter'></div>\n",
    "\n",
    "### 3.5. CryptoPlotter\n",
    "\n",
    "#### Descripción\n",
    "\n",
    "La clase `CryptoPlotter` es responsable de manejar la visualización de datos de criptomonedas y señales de trading. Utiliza la biblioteca Plotly para generar gráficos interactivos que muestran las Bandas de Bollinger, las señales de compra y venta, y el valor del portafolio a lo largo del tiempo.\n",
    "\n",
    "#### Funcionalidad\n",
    "\n",
    "1. **Atributos**\n",
    "   - `data`: Un DataFrame de pandas que contiene los datos de criptomonedas, incluyendo precios y bandas de Bollinger.\n",
    "\n",
    "2. **Métodos**\n",
    "\n",
    "   - `__init__(self, data: pd.DataFrame) -> None`\n",
    "     - **Descripción**: Inicializa la clase `CryptoPlotter` con los datos de criptomonedas.\n",
    "     - **Parámetros**:\n",
    "       - `data` (pd.DataFrame): El DataFrame que contiene los datos de criptomonedas.\n",
    "\n",
    "   - `get_data_plot(self) -> None`\n",
    "     - **Descripción**: Genera un gráfico interactivo que muestra los precios de cierre, las Bandas de Bollinger y las señales de compra y venta.\n",
    "     - **Funcionamiento**:\n",
    "       1. Crea una figura de Plotly.\n",
    "       2. Añade la traza de los precios de cierre.\n",
    "       3. Añade las trazas de las Bandas de Bollinger (superior e inferior).\n",
    "       4. Rellena el área entre las Bandas de Bollinger.\n",
    "       5. Añade las señales de compra y venta si están presentes en los datos.\n",
    "       6. Configura el diseño del gráfico y lo muestra.\n",
    "\n",
    "   - `get_portfolio_plot(self, portfolio_value: pd.Series, initial_capital: float) -> None`\n",
    "     - **Descripción**: Genera un gráfico interactivo que muestra el valor del portafolio a lo largo del tiempo y las señales de compra y venta.\n",
    "     - **Parámetros**:\n",
    "       - `portfolio_value` (pd.Series): Serie que contiene el valor del portafolio a lo largo del tiempo.\n",
    "       - `initial_capital` (float): Capital inicial utilizado como referencia en el gráfico.\n",
    "     - **Funcionamiento**:\n",
    "       1. Crea una figura de Plotly.\n",
    "       2. Añade la traza del valor del portafolio.\n",
    "       3. Añade una línea que representa el capital inicial.\n",
    "       4. Configura el diseño del gráfico y lo muestra.\n",
    "\n",
    "#### Ejemplo de Uso\n",
    "\n",
    "```python\n",
    "import pandas as pd\n",
    "from crypto_analysis.crypto_plotter import CryptoPlotter\n",
    "\n",
    "# Supongamos que 'data' es un DataFrame con los datos de criptomonedas procesados\n",
    "data = pd.read_csv('processed_crypto_data.csv')\n",
    "\n",
    "# Crear una instancia de CryptoPlotter\n",
    "plotter = CryptoPlotter(data)\n",
    "\n",
    "# Generar y mostrar el gráfico de datos\n",
    "plotter.get_data_plot()\n",
    "\n",
    "# Supongamos que 'portfolio_value' es una Serie con el valor del portafolio a lo largo del tiempo\n",
    "portfolio_value = pd.Series(...)\n",
    "\n",
    "# Generar y mostrar el gráfico del portafolio\n",
    "plotter.get_portfolio_plot(portfolio_value, initial_capital=10000)\n",
    "```"
   ]
  },
  {
   "cell_type": "markdown",
   "id": "dd3567d0",
   "metadata": {
    "vscode": {
     "languageId": "plaintext"
    }
   },
   "source": [
    "[Ver código fuente en GitHub](https://github.com/infante-manu/crypto_analysis/blob/main/crypto_analysis/crypto_plotter.py)"
   ]
  }
 ],
 "metadata": {
  "language_info": {
   "name": "python"
  }
 },
 "nbformat": 4,
 "nbformat_minor": 5
}
