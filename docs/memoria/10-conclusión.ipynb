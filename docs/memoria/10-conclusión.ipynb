{
 "cells": [
  {
   "cell_type": "markdown",
   "id": "e4e73dbe",
   "metadata": {},
   "source": [
    "\n",
    "<style>\n",
    "    @import url('https://fonts.googleapis.com/css2?family=Montserrat:wght@300&display=swap');\n",
    "\n",
    "    body, div, h1, h2, h3, h4, h5, h6, p, span, a, li, td, th {\n",
    "        font-family: 'Montserrat', sans-serif;\n",
    "        font-weight: 300;\n",
    "    }\n",
    "</style>    \n",
    "<div id='10-conclusión'></div>"
   ]
  },
  {
   "cell_type": "markdown",
   "id": "71e4b0ba",
   "metadata": {},
   "source": [
    "## 10. Conclusión\n",
    "Describe cómo se ha afrontado el proyecto y las decisiones tomadas durante el desarrollo.\n"
   ]
  }
 ],
 "metadata": {
  "language_info": {
   "name": "python"
  }
 },
 "nbformat": 4,
 "nbformat_minor": 5
}
