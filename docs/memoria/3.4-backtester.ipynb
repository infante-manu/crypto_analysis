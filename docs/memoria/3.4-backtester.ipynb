{
 "cells": [
  {
   "cell_type": "markdown",
   "id": "6f252e2e",
   "metadata": {},
   "source": [
    "\n",
    "<style>\n",
    "    @import url('https://fonts.googleapis.com/css2?family=Montserrat:wght@300&display=swap');\n",
    "\n",
    "    body, div, h1, h2, h3, h4, h5, h6, p, span, a, li, td, th {\n",
    "        font-family: 'Montserrat', sans-serif;\n",
    "        font-weight: 300;\n",
    "    }\n",
    "</style>    \n",
    "<div id='3.4-backtester'></div>"
   ]
  },
  {
   "cell_type": "markdown",
   "id": "c4dc3d8a",
   "metadata": {},
   "source": [
    "### 3.4. Backtester\n",
    "Este módulo ejecuta backtests en las señales de trading y calcula métricas de rendimiento.\n",
    "\n",
    "```python\n",
    "class Backtester:\n",
    "    def __init__(self, data: pd.DataFrame, initial_capital: float = 10000) -> None:\n",
    "        self.data = data\n",
    "        self.initial_capital = initial_capital\n",
    "        self.current_capital = self.initial_capital\n",
    "        self.positions = []\n",
    "        self.trades = []\n",
    "        self.portfolio_values = pd.Series(dtype=float)\n",
    "\n",
    "    def run_backtest(self) -> pd.DataFrame:\n",
    "        # Código para ejecutar backtest\n",
    "        ...\n",
    "\n",
    "    def calculate_metrics(self) -> pd.DataFrame:\n",
    "        # Código para calcular métricas\n",
    "        ...\n",
    "```\n"
   ]
  }
 ],
 "metadata": {
  "language_info": {
   "name": "python"
  }
 },
 "nbformat": 4,
 "nbformat_minor": 5
}
