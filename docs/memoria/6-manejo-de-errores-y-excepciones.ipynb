{
 "cells": [
  {
   "cell_type": "markdown",
   "id": "d9288328",
   "metadata": {},
   "source": [
    "\n",
    "<style>\n",
    "    @import url('https://fonts.googleapis.com/css2?family=Montserrat:wght@300&display=swap');\n",
    "\n",
    "    body, div, h1, h2, h3, h4, h5, h6, p, span, a, li, td, th {\n",
    "        font-family: 'Montserrat', sans-serif;\n",
    "        font-weight: 300;\n",
    "    }\n",
    "</style>    \n",
    "<div id='6-manejo-de-errores-y-excepciones'></div>"
   ]
  },
  {
   "cell_type": "markdown",
   "id": "8e579080",
   "metadata": {},
   "source": [
    "# 6. Manejo de Errores y Excepciones\n",
    "El código incluye manejo de errores y excepciones para asegurar una ejecución robusta.\n"
   ]
  }
 ],
 "metadata": {
  "language_info": {
   "name": "python"
  }
 },
 "nbformat": 4,
 "nbformat_minor": 5
}
