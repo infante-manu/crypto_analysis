{
 "cells": [
  {
   "cell_type": "markdown",
   "id": "2f0bb6f7",
   "metadata": {},
   "source": [
    "\n",
    "<style>\n",
    "    @import url('https://fonts.googleapis.com/css2?family=Montserrat:wght@300&display=swap');\n",
    "\n",
    "    body, div, h1, h2, h3, h4, h5, h6, p, span, a, li, td, th {\n",
    "        font-family: 'Montserrat', sans-serif;\n",
    "        font-weight: 300;\n",
    "    }\n",
    "</style>    \n",
    "<div id='5-pantallazos-y-resultados'></div>"
   ]
  },
  {
   "cell_type": "markdown",
   "id": "acf6d294",
   "metadata": {},
   "source": [
    "## 5. Pantallazos y Resultados\n",
    "Incluye pantallazos de las gráficas generadas, las señales de compra y venta, y los resultados del backtest.\n",
    "\n",
    "## 3. Descripción de los Módulos\n",
    "\n",
    "A continuación, se presentan capturas y gráficos que ilustran las diferentes etapas y resultados del proyecto de análisis de criptomonedas:\n",
    "\n",
    "<div style=\"text-align: center;\">\n",
    "    <img src=\"/Users/manuel.infante/Library/CloudStorage/GoogleDrive-minfante.1@alumni.unav.es/My Drive/Repositorios/python-for-data-analysis/trading_simulator/docs/images/01. selectors-screenshot.png\" alt=\"Captura de los Selectores\" style=\"width: 75%;\">\n",
    "</div>\n",
    "\n",
    "<div style=\"text-align: center;\">\n",
    "    <img src=\"/Users/manuel.infante/Library/CloudStorage/GoogleDrive-minfante.1@alumni.unav.es/My Drive/Repositorios/python-for-data-analysis/trading_simulator/docs/images/02. bands-plot.png\" alt=\"Gráfico de Bandas de Bollinger\" style=\"width: 75%;\">\n",
    "</div>\n",
    "\n",
    "<div style=\"text-align: center;\">\n",
    "    <img src=\"/Users/manuel.infante/Library/CloudStorage/GoogleDrive-minfante.1@alumni.unav.es/My Drive/Repositorios/python-for-data-analysis/trading_simulator/docs/images/03. porfolio-value-plot.png\" alt=\"Gráfico de Valor del Portafolio\" style=\"width: 75%;\">\n",
    "</div>\n",
    "\n",
    "<div style=\"text-align: center;\">\n",
    "    <img src=\"/Users/manuel.infante/Library/CloudStorage/GoogleDrive-minfante.1@alumni.unav.es/My Drive/Repositorios/python-for-data-analysis/trading_simulator/docs/images/04. backtest-summary.png\" alt=\"Resumen del Backtest\" style=\"width: 75%;\">\n",
    "</div>\n",
    "\n",
    "<div style=\"text-align: center;\">\n",
    "    <img src=\"/Users/manuel.infante/Library/CloudStorage/GoogleDrive-minfante.1@alumni.unav.es/My Drive/Repositorios/python-for-data-analysis/trading_simulator/docs/images/05. trading-signals.png\" alt=\"Señales de Trading\" style=\"width: 75%;\">\n",
    "</div>\n"
   ]
  }
 ],
 "metadata": {
  "language_info": {
   "name": "python"
  }
 },
 "nbformat": 4,
 "nbformat_minor": 5
}
