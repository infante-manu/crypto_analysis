{
 "cells": [
  {
   "cell_type": "markdown",
   "id": "2f0bb6f7",
   "metadata": {},
   "source": [
    "\n",
    "<style>\n",
    "    @import url('https://fonts.googleapis.com/css2?family=Montserrat:wght@300&display=swap');\n",
    "\n",
    "    body, div, h1, h2, h3, h4, h5, h6, p, span, a, li, td, th {\n",
    "        font-family: 'Montserrat', sans-serif;\n",
    "        font-weight: 300;\n",
    "    }\n",
    "</style>    \n",
    "<div id='5-pantallazos-y-resultados'></div>"
   ]
  },
  {
   "cell_type": "markdown",
   "id": "acf6d294",
   "metadata": {},
   "source": [
    "## 5. Pantallazos y Resultados\n",
    "Incluye pantallazos de las gráficas generadas, las señales de compra y venta, y los resultados del backtest."
   ]
  }
 ],
 "metadata": {
  "language_info": {
   "name": "python"
  }
 },
 "nbformat": 4,
 "nbformat_minor": 5
}
