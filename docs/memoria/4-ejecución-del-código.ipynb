{
 "cells": [
  {
   "cell_type": "markdown",
   "id": "564b0ffe",
   "metadata": {},
   "source": [
    "\n",
    "<style>\n",
    "    @import url('https://fonts.googleapis.com/css2?family=Montserrat:wght@300&display=swap');\n",
    "\n",
    "    body, div, h1, h2, h3, h4, h5, h6, p, span, a, li, td, th {\n",
    "        font-family: 'Montserrat', sans-serif;\n",
    "        font-weight: 300;\n",
    "    }\n",
    "</style>    \n",
    "<div id='4-ejecución-del-código'></div>"
   ]
  },
  {
   "cell_type": "markdown",
   "id": "dc9683b1",
   "metadata": {},
   "source": [
    "## 4. Ejecución del Código\n",
    "Para ejecutar el proyecto, sigue estos pasos:\n",
    "\n",
    "1. Instala las dependencias:\n",
    "    ```sh\n",
    "    pip install -r requirements.txt\n",
    "    ```\n",
    "\n",
    "2. Ejecución del Script Principal\n",
    "\n",
    "El script principal realiza el análisis completo utilizando los parámetros configurados. Puedes ejecutarlo con valores predeterminados o personalizar los parámetros mediante la línea de comandos.\n",
    "\n",
    "- **Ejecutar con valores por defecto:**\n",
    "\n",
    "    ```sh\n",
    "    python main.py\n",
    "    ```\n",
    "\n",
    "- **Ejecutar con parámetros personalizados:**\n",
    "\n",
    "    ```sh\n",
    "    python main.py --pair BTCUSDT --interval 60 --oversold 20 --overbought 80 --initial_capital 5000 --since 1609459200\n",
    "    ```\n",
    "\n",
    "    - `--pair`: Par de criptomonedas a analizar (por ejemplo, `BTCUSDT`).\n",
    "    - `--interval`: Intervalo en minutos para el análisis (por ejemplo, `60` para una hora).\n",
    "    - `--oversold`: Umbral de sobreventa RSI (por ejemplo, `20`).\n",
    "    - `--overbought`: Umbral de sobrecompra RSI (por ejemplo, `80`).\n",
    "    - `--initial_capital`: Capital inicial para el backtest (por ejemplo, `5000`).\n",
    "    - `--since`: Timestamp opcional para definir el inicio de los datos históricos (por ejemplo, `1609459200` para el 1 de enero de 2021).\n",
    "    ```\n",
    "    \n",
    "3 Ejecución de la Aplicación Streamlit\n",
    "\n",
    "Si deseas visualizar el análisis de manera interactiva, utiliza la aplicación Streamlit proporcionada.\n",
    "\n",
    "1. Asegúrate de que el archivo `run.sh` tenga permisos de ejecución:\n",
    "\n",
    "    ```sh\n",
    "    chmod +x run.sh\n",
    "    ```\n",
    "\n",
    "2. Ejecuta el archivo `run.sh` para iniciar la aplicación:\n",
    "\n",
    "    ```sh\n",
    "    ./run.sh\n",
    "    ```\n",
    "\n",
    "3. Abre el navegador y accede a la dirección que se muestra en la terminal (generalmente en [localhost](http://localhost:8501)).\n"
   ]
  }
 ],
 "metadata": {
  "language_info": {
   "name": "python"
  }
 },
 "nbformat": 4,
 "nbformat_minor": 5
}
