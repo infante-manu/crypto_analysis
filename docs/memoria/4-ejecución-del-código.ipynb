{
 "cells": [
  {
   "cell_type": "markdown",
   "id": "564b0ffe",
   "metadata": {},
   "source": [
    "\n",
    "<style>\n",
    "    @import url('https://fonts.googleapis.com/css2?family=Montserrat:wght@300&display=swap');\n",
    "\n",
    "    body, div, h1, h2, h3, h4, h5, h6, p, span, a, li, td, th {\n",
    "        font-family: 'Montserrat', sans-serif;\n",
    "        font-weight: 300;\n",
    "    }\n",
    "</style>    \n",
    "<div id='4-ejecución-del-código'></div>"
   ]
  },
  {
   "cell_type": "markdown",
   "id": "dc9683b1",
   "metadata": {},
   "source": [
    "## 4. Ejecución del Código\n",
    "Para ejecutar el proyecto, sigue estos pasos:\n",
    "\n",
    "1. Instala las dependencias:\n",
    "    ```sh\n",
    "    pip install -r requirements.txt\n",
    "    ```\n",
    "\n",
    "2. Ejecuta el script principal:\n",
    "    ```sh\n",
    "    python main.py\n",
    "    ```\n",
    "\n",
    "3. Para ejecutar la aplicación Streamlit:\n",
    "    ```sh\n",
    "    ./run.sh\n",
    "    ```"
   ]
  }
 ],
 "metadata": {
  "language_info": {
   "name": "python"
  }
 },
 "nbformat": 4,
 "nbformat_minor": 5
}
