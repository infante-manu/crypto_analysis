{
 "cells": [
  {
   "cell_type": "markdown",
   "id": "4cf1935f",
   "metadata": {},
   "source": [
    "\n",
    "<style>\n",
    "    @import url('https://fonts.googleapis.com/css2?family=Montserrat:wght@300&display=swap');\n",
    "\n",
    "    body, div, h1, h2, h3, h4, h5, h6, p, span, a, li, td, th {\n",
    "        font-family: 'Montserrat', sans-serif;\n",
    "        font-weight: 300;\n",
    "    }\n",
    "</style>    \n",
    "<div id='3.2-cryptodataprocessor'></div>"
   ]
  },
  {
   "cell_type": "markdown",
   "id": "fa86a5f7",
   "metadata": {},
   "source": [
    "### 3.2. CryptoDataProcessor\n",
    "Este módulo procesa y analiza los datos de criptomonedas.\n",
    "\n",
    "```python\n",
    "class CryptoDataProcessor:\n",
    "    def __init__(self, pair: str, interval: int = 1440, oversold: int = 30, overbought: int = 70) -> None:\n",
    "        self.kraken_api_handler = KrakenAPIHandler()\n",
    "        self.pair = pair\n",
    "        self.interval = interval\n",
    "        self.data = None\n",
    "        self.oversold = oversold\n",
    "        self.overbought = overbought\n",
    "        self.fetch_data()\n",
    "\n",
    "    def fetch_data(self):\n",
    "        self.data = self.kraken_api_handler.fetch_ohlc_data(self.pair, self.interval)\n",
    "\n",
    "    def calculate_bollinger_bands(self, df: pd.DataFrame, column: str = 'close', window: int = 20, num_std_dev: int = 2) -> pd.DataFrame:\n",
    "        # Código para calcular Bandas de Bollinger\n",
    "        ...\n",
    "\n",
    "    def calculate_rsi(self, df: pd.DataFrame, column: str = 'close', period: int = 14) -> pd.DataFrame:\n",
    "        # Código para calcular RSI\n",
    "        ...\n",
    "```"
   ]
  }
 ],
 "metadata": {
  "language_info": {
   "name": "python"
  }
 },
 "nbformat": 4,
 "nbformat_minor": 5
}
