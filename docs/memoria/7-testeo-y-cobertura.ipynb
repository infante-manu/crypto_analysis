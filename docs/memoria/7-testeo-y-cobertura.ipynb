{
 "cells": [
  {
   "cell_type": "markdown",
   "id": "88f12d1d",
   "metadata": {},
   "source": [
    "\n",
    "<style>\n",
    "    @import url('https://fonts.googleapis.com/css2?family=Montserrat:wght@300&display=swap');\n",
    "\n",
    "    body, div, h1, h2, h3, h4, h5, h6, p, span, a, li, td, th {\n",
    "        font-family: 'Montserrat', sans-serif;\n",
    "        font-weight: 300;\n",
    "    }\n",
    "</style>    \n",
    "<div id='7-testeo-y-cobertura'></div>"
   ]
  },
  {
   "cell_type": "markdown",
   "id": "f0e18941",
   "metadata": {},
   "source": [
    "## 7. Testeo y Cobertura\n",
    "El proyecto incluye pruebas unitarias para los módulos principales. Las pruebas se pueden ejecutar con:\n",
    "```sh\n",
    "python -m unittest discover tests\n",
    "```"
   ]
  }
 ],
 "metadata": {
  "language_info": {
   "name": "python"
  }
 },
 "nbformat": 4,
 "nbformat_minor": 5
}
