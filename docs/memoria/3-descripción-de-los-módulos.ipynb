{
 "cells": [
  {
   "cell_type": "markdown",
   "id": "88ecc63d",
   "metadata": {},
   "source": [
    "\n",
    "<style>\n",
    "    @import url('https://fonts.googleapis.com/css2?family=Montserrat:wght@300&display=swap');\n",
    "\n",
    "    body, div, h1, h2, h3, h4, h5, h6, p, span, a, li, td, th {\n",
    "        font-family: 'Montserrat', sans-serif;\n",
    "        font-weight: 300;\n",
    "    }\n",
    "</style>    \n",
    "<div id='3-descripción-de-los-módulos'></div>"
   ]
  },
  {
   "cell_type": "markdown",
   "id": "c8ef7890",
   "metadata": {},
   "source": [
    "## 3. Descripción de los Módulos"
   ]
  }
 ],
 "metadata": {
  "language_info": {
   "name": "python"
  }
 },
 "nbformat": 4,
 "nbformat_minor": 5
}
