{
 "cells": [
  {
   "cell_type": "markdown",
   "id": "dba08fbc",
   "metadata": {},
   "source": [
    "<style>\n",
    "    @import url('https://fonts.googleapis.com/css2?family=Montserrat:wght@300&display=swap');\n",
    "\n",
    "    body, div, h1, h2, h3, h4, h5, h6, p, span, a, li, td, th {\n",
    "        font-family: 'Montserrat', sans-serif;\n",
    "        font-weight: 300;\n",
    "    }\n",
    "</style>    \n",
    "<div id='3.3-signalgenerator'></div>\n",
    "\n",
    "\n",
    "### 3.3. SignalGenerator\n",
    "\n",
    "#### Descripción\n",
    "La clase `SignalGenerator` es responsable de generar señales de trading basadas en los datos procesados de criptomonedas. Utiliza indicadores técnicos como las Bandas de Bollinger y el Índice de Fuerza Relativa (RSI) para identificar oportunidades de compra y venta.\n",
    "\n",
    "#### Funcionalidad\n",
    "\n",
    "1. **Atributos**\n",
    "   - `data`: Un DataFrame de pandas que contiene los datos procesados de criptomonedas, incluyendo indicadores técnicos como las Bandas de Bollinger y el RSI.\n",
    "\n",
    "2. **Métodos**\n",
    "\n",
    "   - `__init__(self, data: pd.DataFrame) -> None`\n",
    "     - **Descripción**: Inicializa la clase `SignalGenerator` con los datos procesados de criptomonedas.\n",
    "     - **Parámetros**:\n",
    "       - `data` (pd.DataFrame): El DataFrame que contiene los datos procesados de criptomonedas.\n",
    "\n",
    "   - `_validate_data(self, data: pd.DataFrame) -> None`\n",
    "     - **Descripción**: Valida que los datos contengan las columnas requeridas.\n",
    "     - **Parámetros**:\n",
    "       - `data` (pd.DataFrame): El DataFrame que contiene los datos procesados de criptomonedas.\n",
    "     - **Funcionamiento**:\n",
    "       1. Verifica que las columnas necesarias ('close', 'upper_band', 'lower_band', 'rsi', 'over_sold', 'over_bought') estén presentes en el DataFrame.\n",
    "       2. Lanza una excepción si faltan columnas requeridas.\n",
    "\n",
    "   - `generate_signals(self) -> pd.DataFrame`\n",
    "     - **Descripción**: Genera señales de compra y venta basadas en las Bandas de Bollinger y el RSI.\n",
    "     - **Funcionamiento**:\n",
    "       1. Itera sobre los datos y genera señales de compra cuando el precio cierra por debajo de la banda inferior y el RSI está por debajo del umbral de sobreventa.\n",
    "       2. Genera señales de venta cuando el precio cierra por encima de la banda superior y el RSI está por encima del umbral de sobrecompra.\n",
    "       3. Almacena las señales generadas en nuevas columnas del DataFrame ('buy' y 'sell').\n",
    "       4. Devuelve el DataFrame con las señales generadas.\n",
    "\n",
    "#### Ejemplo de Uso\n",
    "\n",
    "```python\n",
    "import pandas as pd\n",
    "from crypto_analysis.signal_generator import SignalGenerator\n",
    "\n",
    "# Supongamos que 'data' es un DataFrame con los datos procesados de criptomonedas\n",
    "data = pd.read_csv('processed_crypto_data.csv')\n",
    "\n",
    "# Crear una instancia de SignalGenerator\n",
    "signal_generator = SignalGenerator(data)\n",
    "\n",
    "# Generar señales de compra y venta\n",
    "signals = signal_generator.generate_signals()\n",
    "\n",
    "# Mostrar las señales generadas\n",
    "print(signals[['close', 'buy', 'sell']])\n",
    "```"
   ]
  },
  {
   "cell_type": "markdown",
   "id": "797a1e23",
   "metadata": {},
   "source": [
    "\n",
    "[Ver código fuente en GitHub](https://github.com/infante-manu/crypto_analysis/blob/main/crypto_analysis/signal_generator.py)"
   ]
  }
 ],
 "metadata": {
  "language_info": {
   "name": "python"
  }
 },
 "nbformat": 4,
 "nbformat_minor": 5
}
