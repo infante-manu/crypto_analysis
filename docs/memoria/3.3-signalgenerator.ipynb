{
 "cells": [
  {
   "cell_type": "markdown",
   "id": "dba08fbc",
   "metadata": {},
   "source": [
    "\n",
    "<style>\n",
    "    @import url('https://fonts.googleapis.com/css2?family=Montserrat:wght@300&display=swap');\n",
    "\n",
    "    body, div, h1, h2, h3, h4, h5, h6, p, span, a, li, td, th {\n",
    "        font-family: 'Montserrat', sans-serif;\n",
    "        font-weight: 300;\n",
    "    }\n",
    "</style>    \n",
    "<div id='3.3-signalgenerator'></div>"
   ]
  },
  {
   "cell_type": "markdown",
   "id": "14b0db63",
   "metadata": {},
   "source": [
    "### 3.3. SignalGenerator\n",
    "Este módulo genera señales de compra y venta basadas en Bandas de Bollinger y RSI.\n",
    "\n",
    "```python\n",
    "class SignalGenerator:\n",
    "    def __init__(self, data: pd.DataFrame) -> None:\n",
    "        self.data = data\n",
    "\n",
    "    def generate_signals(self) -> pd.DataFrame:\n",
    "        # Código para generar señales\n",
    "        ...\n",
    "```"
   ]
  }
 ],
 "metadata": {
  "language_info": {
   "name": "python"
  }
 },
 "nbformat": 4,
 "nbformat_minor": 5
}
