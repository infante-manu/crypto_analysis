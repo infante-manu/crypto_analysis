{
 "cells": [
  {
   "cell_type": "markdown",
   "id": "a78c7e6b",
   "metadata": {},
   "source": [
    "\n",
    "<style>\n",
    "    @import url('https://fonts.googleapis.com/css2?family=Montserrat:wght@300&display=swap');\n",
    "\n",
    "    body, div, h1, h2, h3, h4, h5, h6, p, span, a, li, td, th {\n",
    "        font-family: 'Montserrat', sans-serif;\n",
    "        font-weight: 300;\n",
    "    }\n",
    "    </style>\n",
    "    \n",
    "<div id='1-descripción-del-proyecto'></div>"
   ]
  },
  {
   "cell_type": "markdown",
   "id": "293e912a",
   "metadata": {
    "vscode": {
     "languageId": "plaintext"
    }
   },
   "source": [
    "## 1. Descripción del Proyecto\n",
    "Este proyecto tiene como objetivo analizar datos de criptomonedas, generar señales de trading y visualizar tendencias de precios. Para ello, se emplea una combinación de Bandas de Bollinger y el Índice de Fuerza Relativa (RSI), un indicador popular en el análisis técnico que mide el impulso y la velocidad de los movimientos de precios. Finalmente, se simula una estrategia de trading (backtesting) utilizando las señales generadas, considerando un capital inicial y un período determinado que el usuario puede acceder en la siguiente [app](https://crypto-trading-simulator-2137aa365359.herokuapp.com)."
   ]
  }
 ],
 "metadata": {
  "language_info": {
   "name": "python"
  }
 },
 "nbformat": 4,
 "nbformat_minor": 5
}
