{
 "cells": [
  {
   "cell_type": "markdown",
   "id": "17159788",
   "metadata": {},
   "source": [
    "\n",
    "<style>\n",
    "    @import url('https://fonts.googleapis.com/css2?family=Montserrat:wght@300&display=swap');\n",
    "\n",
    "    body, div, h1, h2, h3, h4, h5, h6, p, span, a, li, td, th {\n",
    "        font-family: 'Montserrat', sans-serif;\n",
    "        font-weight: 300;\n",
    "    }\n",
    "</style>    \n",
    "<div id='9-distribución-del-proyecto'></div>"
   ]
  },
  {
   "cell_type": "markdown",
   "id": "f47e7c3a",
   "metadata": {},
   "source": [
    "## 9. Distribución del Proyecto\n",
    "El proyecto se puede distribuir utilizando `setup.py` y se puede subir a PyPi o una plataforma PaaS."
   ]
  }
 ],
 "metadata": {
  "language_info": {
   "name": "python"
  }
 },
 "nbformat": 4,
 "nbformat_minor": 5
}
