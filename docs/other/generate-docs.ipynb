{
 "cells": [
  {
   "cell_type": "code",
   "execution_count": 9,
   "id": "6b533206",
   "metadata": {},
   "outputs": [],
   "source": [
    "import nbformat as nbf"
   ]
  },
  {
   "cell_type": "code",
   "execution_count": 10,
   "id": "c7426345",
   "metadata": {},
   "outputs": [],
   "source": [
    "MEMORIA_PATH = \"/Users/manuel.infante/Library/CloudStorage/GoogleDrive-minfante.1@alumni.unav.es/My Drive/Repositorios/python-for-data-analysis/crypto_analysis/docs/memoria\""
   ]
  },
  {
   "cell_type": "code",
   "execution_count": 11,
   "id": "8a212934",
   "metadata": {},
   "outputs": [],
   "source": [
    "STYLE_CSS =\"\"\"\n",
    "<style>\n",
    "    @import url('https://fonts.googleapis.com/css2?family=Montserrat:wght@300&display=swap');\n",
    "\n",
    "    body, div, h1, h2, h3, h4, h5, h6, p, span, a, li, td, th {\n",
    "        font-family: 'Montserrat', sans-serif;\n",
    "        font-weight: 300;\n",
    "    }\n",
    "</style>    \n",
    "\"\"\""
   ]
  },
  {
   "cell_type": "code",
   "execution_count": 12,
   "id": "190899fe",
   "metadata": {},
   "outputs": [],
   "source": [
    "anchors = [\n",
    "    \"1-descripción-del-proyecto\",\n",
    "    \"2-estructura-del-código-y-archivos\",\n",
    "    \"3-descripción-de-los-módulos\",\n",
    "    \"3.1-krakenapihandler\",\n",
    "    \"3.2-cryptodataprocessor\",\n",
    "    \"3.3-signalgenerator\",\n",
    "    \"3.4-backtester\",\n",
    "    \"3.5-cryptoplotter\",\n",
    "    \"3.6-tradingengine\",\n",
    "    \"4-ejecución-del-código\",\n",
    "    \"5-pantallazos-y-resultados\",\n",
    "    \"6-manejo-de-errores-y-excepciones\",\n",
    "    \"7-testeo-y-cobertura\",\n",
    "    \"8-mecanismos-para-la-reproducción-del-entorno\",\n",
    "    \"9-distribución-del-proyecto\",\n",
    "    \"10-conclusión\"\n",
    "]\n",
    "# Create a notebook for each anchor\n",
    "for anchor in anchors:\n",
    "    # Create a new notebook\n",
    "    nb = nbf.v4.new_notebook()\n",
    "    \n",
    "    # Add a markdown cell with the anchor as the title    \n",
    "    html_init = STYLE_CSS + f\"<div id='{anchor}'></div>\"\n",
    "    nb.cells.append(nbf.v4.new_markdown_cell(html_init))\n",
    "        \n",
    "    # Write the notebook to a file\n",
    "    with open(f\"{MEMORIA_PATH}/{anchor}.ipynb\", 'w') as f:\n",
    "        nbf.write(nb, f)"
   ]
  }
 ],
 "metadata": {
  "kernelspec": {
   "display_name": "crypto_analysis",
   "language": "python",
   "name": "python3"
  },
  "language_info": {
   "codemirror_mode": {
    "name": "ipython",
    "version": 3
   },
   "file_extension": ".py",
   "mimetype": "text/x-python",
   "name": "python",
   "nbconvert_exporter": "python",
   "pygments_lexer": "ipython3",
   "version": "3.13.0"
  }
 },
 "nbformat": 4,
 "nbformat_minor": 5
}
